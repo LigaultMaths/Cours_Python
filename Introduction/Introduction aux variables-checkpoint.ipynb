{
 "cells": [
  {
   "cell_type": "markdown",
   "metadata": {},
   "source": [
    "# Variables"
   ]
  },
  {
   "cell_type": "markdown",
   "metadata": {},
   "source": [
    "## Exercice 1_ Créer une nouvelle variable\n",
    "Ceci est un test $f : x \\mapsto x^2$ pour définir une fonction en utilisant $LaTex$ \n",
    "\n",
    "Une variable peut être vue comme une case dans la mémoire contenant :\n",
    "- le nom de la variable, qui nous permet de réutiliser cette variable dans le(s) programme(s)\n",
    "- la valeur de la variable, cette valeur pouvant être un nombre entier (int), un nombre décimal (float) ou une chaîne de caractère (str)\n",
    "\n",
    "\n",
    "### Question 1 :  \n"
   ]
  },
  {
   "cell_type": "code",
   "execution_count": 1,
   "metadata": {},
   "outputs": [],
   "source": [
    "#on appelle a cette variable, dont la valeur est un nombre entier, 5\n",
    "a=5"
   ]
  },
  {
   "cell_type": "code",
   "execution_count": 2,
   "metadata": {},
   "outputs": [],
   "source": [
    "#on définit une nouvelle variable, b, qui est un nombre décimal : 2,5\n",
    "b=2.5"
   ]
  },
  {
   "cell_type": "code",
   "execution_count": 3,
   "metadata": {},
   "outputs": [],
   "source": [
    "#on définit une dernière variable, c, qui est une chaîne de caractère, contenant le mot \"Bonjour\"\n",
    "c='Bonjour'"
   ]
  },
  {
   "cell_type": "code",
   "execution_count": 5,
   "metadata": {},
   "outputs": [
    {
     "name": "stdout",
     "output_type": "stream",
     "text": [
      "5\n",
      "2.5\n",
      "Bonjour\n"
     ]
    }
   ],
   "source": [
    "#on peut afficher la valeur de ces variables avec l'instruction print\n",
    "print(a)\n",
    "print(b)\n",
    "print(c)"
   ]
  }
 ],
 "metadata": {
  "kernelspec": {
   "display_name": "Python 3",
   "language": "python",
   "name": "python3"
  },
  "language_info": {
   "codemirror_mode": {
    "name": "ipython",
    "version": 3
   },
   "file_extension": ".py",
   "mimetype": "text/x-python",
   "name": "python",
   "nbconvert_exporter": "python",
   "pygments_lexer": "ipython3",
   "version": "3.7.4"
  }
 },
 "nbformat": 4,
 "nbformat_minor": 2
}
